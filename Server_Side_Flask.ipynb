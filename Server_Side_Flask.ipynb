{
 "cells": [
  {
   "cell_type": "code",
   "execution_count": null,
   "id": "ad1ec39e",
   "metadata": {},
   "outputs": [
    {
     "name": "stdout",
     "output_type": "stream",
     "text": [
      " * Serving Flask app '__main__'\n",
      " * Debug mode: off\n"
     ]
    },
    {
     "name": "stderr",
     "output_type": "stream",
     "text": [
      "\u001b[31m\u001b[1mWARNING: This is a development server. Do not use it in a production deployment. Use a production WSGI server instead.\u001b[0m\n",
      " * Running on all addresses (0.0.0.0)\n",
      " * Running on http://127.0.0.1:5000\n",
      " * Running on http://172.19.194.226:5000\n",
      "\u001b[33mPress CTRL+C to quit\u001b[0m\n",
      "127.0.0.1 - - [16/Feb/2023 17:15:48] \"POST / HTTP/1.1\" 200 -\n"
     ]
    }
   ],
   "source": [
    "# Server Side\n",
    "import traceback\n",
    "import hashlib\n",
    "from flask import Flask\n",
    "from flask import request\n",
    "\n",
    "\n",
    "# def do_process(b):\n",
    "#     return b\n",
    "\n",
    "app = Flask(__name__)\n",
    "@app.route('/', methods=['GET', 'POST'])\n",
    "def test():\n",
    "    try:\n",
    "#         im_path = \"final/PhotoStudio_1670841590239.jpeg\"\n",
    "#         with open(im_path, \"rb\") as f:\n",
    "#             im_bytes = f.read()\n",
    "#             im_hash = str(hashlib.md5(im_bytes).hexdigest())\n",
    "#             return im_hash\n",
    "        \n",
    "\n",
    "        bb = request.files[\"bb\"]\n",
    "        im_hash = str(hashlib.md5(bb.read()).hexdigest())\n",
    "        return im_hash\n",
    "#         return n1\n",
    "#         n2 = int(request.form[\"n2\"])\n",
    "#         return str(n1+n2)\n",
    "\n",
    "        # your code here\n",
    "    \n",
    "    except Exception as e:\n",
    "        return str(tracback.format_exc())\n",
    "\n",
    "app.run(host='0.0.0.0', port=5000)"
   ]
  },
  {
   "cell_type": "code",
   "execution_count": null,
   "id": "f9c17448",
   "metadata": {},
   "outputs": [],
   "source": []
  }
 ],
 "metadata": {
  "kernelspec": {
   "display_name": "Python 3 (ipykernel)",
   "language": "python",
   "name": "python3"
  },
  "language_info": {
   "codemirror_mode": {
    "name": "ipython",
    "version": 3
   },
   "file_extension": ".py",
   "mimetype": "text/x-python",
   "name": "python",
   "nbconvert_exporter": "python",
   "pygments_lexer": "ipython3",
   "version": "3.10.6"
  }
 },
 "nbformat": 4,
 "nbformat_minor": 5
}
