{
 "cells": [
  {
   "cell_type": "code",
   "execution_count": 20,
   "id": "38a9e803",
   "metadata": {
    "scrolled": false
   },
   "outputs": [
    {
     "name": "stdout",
     "output_type": "stream",
     "text": [
      "2d48b116815f7e38801d502b6dc10428\n"
     ]
    }
   ],
   "source": [
    "#Client side\n",
    "import requests\n",
    "import glob\n",
    "\n",
    "api_url = \"http://localhost:5000/\"\n",
    "\n",
    "path = \"bb.jpeg\"\n",
    "\n",
    "with open(path, \"rb\") as f:\n",
    "    data = {\n",
    "        \"bb\" : f\n",
    "    }\n",
    "    response = requests.post(api_url, files=data)\n",
    "\n",
    "# print(response)\n",
    "print(response.text)\n"
   ]
  },
  {
   "cell_type": "code",
   "execution_count": null,
   "id": "f87d2b2c",
   "metadata": {},
   "outputs": [],
   "source": []
  }
 ],
 "metadata": {
  "kernelspec": {
   "display_name": "Python 3 (ipykernel)",
   "language": "python",
   "name": "python3"
  },
  "language_info": {
   "codemirror_mode": {
    "name": "ipython",
    "version": 3
   },
   "file_extension": ".py",
   "mimetype": "text/x-python",
   "name": "python",
   "nbconvert_exporter": "python",
   "pygments_lexer": "ipython3",
   "version": "3.10.6"
  }
 },
 "nbformat": 4,
 "nbformat_minor": 5
}
